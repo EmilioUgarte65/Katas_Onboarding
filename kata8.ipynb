{
 "cells": [
  {
   "cell_type": "markdown",
   "metadata": {},
   "source": [
    "## Diccionarios"
   ]
  },
  {
   "cell_type": "code",
   "execution_count": null,
   "metadata": {},
   "outputs": [
    {
     "name": "stdout",
     "output_type": "stream",
     "text": [
      "Planet: Mars \n",
      "Moons: 42\n",
      "{'polar': 6752, 'equatorial': 6792}\n"
     ]
    }
   ],
   "source": [
    "dic_planet = {\n",
    "    \"Name\" : \"Mars\",\n",
    "    \"Moons\": 42\n",
    " }\n",
    "print(\"Planet:\", dic_planet[\"Name\"],\n",
    "\"\\nMoons:\",dic_planet[\"Moons\"])\n",
    "dic_planet[\"circunference\"]={'polar':6752,'equatorial':6792}\n",
    "print(dic_planet[\"circunference\"])\n"
   ]
  },
  {
   "cell_type": "markdown",
   "metadata": {},
   "source": [
    "## Numero de Lunas\n"
   ]
  },
  {
   "cell_type": "code",
   "execution_count": null,
   "metadata": {},
   "outputs": [
    {
     "name": "stdout",
     "output_type": "stream",
     "text": [
      "17.833333333333332\n"
     ]
    }
   ],
   "source": [
    "planet_moons = {   \n",
    "    'mercury': 0,\n",
    "    'venus': 0,\n",
    "    'earth': 1,\n",
    "    'mars': 2,\n",
    "    'jupiter': 79,\n",
    "    'saturn': 82,\n",
    "    'uranus': 27,\n",
    "    'neptune': 14,\n",
    "    'pluto': 5,\n",
    "    'haumea': 2,\n",
    "    'makemake': 1,\n",
    "    'eris': 1}\n",
    "moons = sum(planet_moons.values())\n",
    "i=planet_moons.__len__()\n",
    "avarage=moons/i  \n",
    "print(avarage)"
   ]
  }
 ],
 "metadata": {
  "interpreter": {
   "hash": "ff514226019538e00b06d60e0845596ea24ddcc85d9f4856e8453e7c48e8444b"
  },
  "kernelspec": {
   "display_name": "Python 3.9.10 64-bit (windows store)",
   "language": "python",
   "name": "python3"
  },
  "language_info": {
   "name": "python",
   "version": "3.9.10"
  },
  "orig_nbformat": 4
 },
 "nbformat": 4,
 "nbformat_minor": 2
}
