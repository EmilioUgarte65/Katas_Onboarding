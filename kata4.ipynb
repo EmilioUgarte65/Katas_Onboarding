{
 "cells": [
  {
   "cell_type": "markdown",
   "metadata": {},
   "source": [
    "## Conversion de cadena"
   ]
  },
  {
   "cell_type": "code",
   "execution_count": null,
   "metadata": {},
   "outputs": [
    {
     "name": "stdout",
     "output_type": "stream",
     "text": [
      "The Moon is Earth's only satellite\n",
      "There are several interesting facts about the Moon and how it affects life here on Earth.On average, the Moon moves 4cm away from the Earth every year\n",
      "This yearly drift is not significant enough to cause immediate effects on Earth\n",
      "The highest d\n",
      "Interesting facts about the Moon\n",
      "The Moon is Earth's only satellite\n",
      "There are several interesting facts about the Moon and how it affects life here on Earth.On average, the Moon moves 4cm away from the Earth every year\n",
      "This yearly drift is not significant enough to cause immediate effects on Earth\n",
      "The highest d\n"
     ]
    }
   ],
   "source": [
    "text=\"Interesting facts about the Moon. The Moon is Earth's only satellite. There are several interesting facts about the Moon and how it affects life here on Earth.\\\n",
    "On average, the Moon moves 4cm away from the Earth every year. This yearly drift is not significant enough to cause immediate effects on Earth. The highest d\"\n",
    "text_parts = text.split('. ')\n",
    "text_parts\n",
    "key_words =[\"average\", \"temperature\", \"distance\"]\n",
    "for sentence in text_parts:\n",
    "    for key_words in key_words:\n",
    "        if key_words in sentence:\n",
    "            print(sentence)\n",
    "            break\n",
    "for sentence in text_parts:\n",
    "    for key_words in key_words:\n",
    "        if key_words in sentence:\n",
    "            print(sentence.replace(\"C\",\"Celsius\"))        "
   ]
  },
  {
   "cell_type": "markdown",
   "metadata": {},
   "source": [
    "## Gravedad Tierra/Luna\n"
   ]
  },
  {
   "cell_type": "code",
   "execution_count": null,
   "metadata": {},
   "outputs": [
    {
     "name": "stdout",
     "output_type": "stream",
     "text": [
      "\n",
      "Informaton about gravity on: Moon\n",
      "------------------------------------------------------------\n",
      "Name of the planet:Earth\n",
      "Gravity above Earth: 1.6199999999999999 m/s2\n",
      "\n"
     ]
    }
   ],
   "source": [
    "name = \"Moon\"\n",
    "gravity= 0.00162\n",
    "planet=\"Earth\"\n",
    "gravity *=1000\n",
    "title=f\"Informaton about gravity on: {name}\"\n",
    "inf= f\"\"\" \\n{'-'*65}\\n Name of the planet:  {planet} \\n Gravity above {name}: {gravity} m/s2\"\"\"\n",
    "complete_text= f\"\"\"{title.title()} {inf}\"\"\"\n",
    "\n",
    "forma_t=\"\"\"\n",
    "Informaton about gravity on: {name}\n",
    "------------------------------------------------------------\n",
    "Name of the planet:{planet}\n",
    "Gravity above {planet}: {gravity} m/s2\n",
    "\"\"\"\n",
    "print(forma_t.format(name=name,planet=planet, gravity=gravity))\n"
   ]
  }
 ],
 "metadata": {
  "interpreter": {
   "hash": "ff514226019538e00b06d60e0845596ea24ddcc85d9f4856e8453e7c48e8444b"
  },
  "kernelspec": {
   "display_name": "Python 3.9.10 64-bit (windows store)",
   "language": "python",
   "name": "python3"
  },
  "language_info": {
   "name": "python",
   "version": "3.9.10"
  },
  "orig_nbformat": 4
 },
 "nbformat": 4,
 "nbformat_minor": 2
}
