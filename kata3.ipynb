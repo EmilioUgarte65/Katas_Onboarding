{
 "cells": [
  {
   "cell_type": "markdown",
   "metadata": {},
   "source": [
    "## Asteroides cercanos\n",
    "Se crea una aplicacion, la cual lanza un mensaje si un asteroide esta cerca."
   ]
  },
  {
   "cell_type": "code",
   "execution_count": null,
   "metadata": {},
   "outputs": [
    {
     "name": "stdout",
     "output_type": "stream",
     "text": [
      "We'll be destroy!! D:\n",
      "Velocity:  28 km/s\n"
     ]
    }
   ],
   "source": [
    "import random\n",
    "Next_Asteroid= random.randint(3,60)\n",
    "if Next_Asteroid >=25:\n",
    "    print(\"We'll be destroy!! D:\")\n",
    "    print(\"Velocity: \", Next_Asteroid, \"km/s\")\n",
    "else:\n",
    "        print(\"We are safe :D\")\n",
    "        print(\"Velocity: \", Next_Asteroid, \"km/s\")\n",
    "    \n"
   ]
  },
  {
   "cell_type": "markdown",
   "metadata": {},
   "source": [
    "## Haremos el mismo radar comprobando los el tamaño del asteroide\n"
   ]
  },
  {
   "cell_type": "code",
   "execution_count": null,
   "metadata": {},
   "outputs": [
    {
     "name": "stdout",
     "output_type": "stream",
     "text": [
      "We're already dead T_T\n",
      "Velocity:  25 km/s\n",
      "Size:  134 m\n",
      "Look up, could you see a ligth in the sky :D\n"
     ]
    }
   ],
   "source": [
    "import random\n",
    "Next_Asteroid= random.randint(3,60)\n",
    "size=random.randint(0,200)\n",
    "if Next_Asteroid >=25 and size>=25 and size<=100:\n",
    "    print(\"We'll be destroy!! D:\")\n",
    "    print(\"Velocity: \", Next_Asteroid, \"km/s\\nSize: \",size,\"m\")\n",
    "elif Next_Asteroid>=25 and size>=101:\n",
    "    print(\"We're already dead T_T\")\n",
    "    print(\"Velocity: \", Next_Asteroid, \"km/s\\nSize: \",size,\"m\")\n",
    "\n",
    "else:\n",
    "    print(\"We're safe :D\")\n",
    "    print(\"Velocity: \", Next_Asteroid, \"km/s\\nSize: \",size,\"m\")\n",
    "if Next_Asteroid >=20:\n",
    "    print(\"Look up, could you see a ligth in the sky :D\")\n",
    "    "
   ]
  }
 ],
 "metadata": {
  "interpreter": {
   "hash": "ff514226019538e00b06d60e0845596ea24ddcc85d9f4856e8453e7c48e8444b"
  },
  "kernelspec": {
   "display_name": "Python 3.9.10 64-bit (windows store)",
   "language": "python",
   "name": "python3"
  },
  "language_info": {
   "name": "python",
   "version": "3.9.10"
  },
  "orig_nbformat": 4
 },
 "nbformat": 4,
 "nbformat_minor": 2
}
