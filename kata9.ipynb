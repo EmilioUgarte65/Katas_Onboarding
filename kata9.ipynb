{
 "cells": [
  {
   "cell_type": "markdown",
   "metadata": {},
   "source": [
    "## Manejo de funciones"
   ]
  },
  {
   "cell_type": "code",
   "execution_count": null,
   "metadata": {},
   "outputs": [
    {
     "name": "stdout",
     "output_type": "stream",
     "text": [
      "Report:\n",
      "\n",
      "    tanks: (80, 90, 50)\n",
      "\n",
      "    avarage: 73.33333333333333\n",
      "    \n"
     ]
    }
   ],
   "source": [
    "def avarage (val):\n",
    "    av=(sum(val)/len(val))    \n",
    "    return av\n",
    "def tanks(t1,t2,t3):\n",
    "    return f\"\"\"Report:\\n\n",
    "    tanks: {t1, t2, t3}\\n\n",
    "    avarage: {avarage([t1, t2, t3])}\n",
    "    \"\"\"    \n",
    "\n",
    "print(tanks(80,90,50))"
   ]
  },
  {
   "cell_type": "markdown",
   "metadata": {},
   "source": [
    "## Informe de mision\n"
   ]
  },
  {
   "cell_type": "code",
   "execution_count": null,
   "metadata": {},
   "outputs": [
    {
     "name": "stdout",
     "output_type": "stream",
     "text": [
      "Traveling to: Jupiter\n",
      "    total fuel: 115 gallons\n",
      "    travel time: 45000 minutesinternal tank --> 30000 gallons left\n",
      "\n"
     ]
    }
   ],
   "source": [
    "def travel_report (preLanunch, travel_time, destination,internal_tank, external_tank):\n",
    "    return f\"\"\"Traveling to: {destination}\n",
    "    internal tank: {internal_tank} \n",
    "    external tank: {external_tank} \n",
    "    total fuel: {external_tank+internal_tank} gallons\n",
    "    travel time: {preLanunch+travel_time} minutes\n",
    "    \"\"\"\n",
    "    \n",
    "def travel_report_V1 (destination,*minutes,**fuel):\n",
    "    return f\"\"\"Traveling to: {destination}\n",
    "    total fuel: {sum(minutes)} gallons\n",
    "    travel time: {sum(fuel.values())} minutes\n",
    "    \"\"\"    \n",
    "\n",
    "def travel_report_V2 (destination,*minutes,**fuel):\n",
    "    report = f\"\"\"Traveling to: {destination}\n",
    "    total fuel: {sum(minutes)} gallons\n",
    "    travel time: {sum(fuel.values())} minutes\"\"\"\n",
    "    for tank_name, gallons in fuel.items():\n",
    "     report += f\"{tank_name} tank --> {gallons} gallons left\\n\"\n",
    "     return report\n",
    "\n",
    "    \n",
    "print(travel_report_V2(\"Jupiter\",15,20,30,50, internal=30000, external=15000))"
   ]
  }
 ],
 "metadata": {
  "interpreter": {
   "hash": "ff514226019538e00b06d60e0845596ea24ddcc85d9f4856e8453e7c48e8444b"
  },
  "kernelspec": {
   "display_name": "Python 3.9.10 64-bit (windows store)",
   "language": "python",
   "name": "python3"
  },
  "language_info": {
   "name": "python",
   "version": "3.9.10"
  },
  "orig_nbformat": 4
 },
 "nbformat": 4,
 "nbformat_minor": 2
}
