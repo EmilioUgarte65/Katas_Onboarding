{
 "cells": [
  {
   "cell_type": "markdown",
   "metadata": {},
   "source": [
    "Microsoft Windows [Versión 10.0.22000.493]\n",
    "(c) Microsoft Corporation. Todos los derechos reservados.\n",
    "\n",
    "C:\\Users\\emili>python3 -m venv env\n",
    "\n",
    "C:\\Users\\emili>source env/bin/activate\n",
    "\"source\" no se reconoce como un comando interno o externo,\n",
    "programa o archivo por lotes ejecutable.\n",
    "\n",
    "C:\\Users\\emili>cd C:\\Users\\emili\\Documents\\launch\n",
    "\n",
    "C:\\Users\\emili\\Documents\\launch>env\n",
    "\"env\" no se reconoce como un comando interno o externo,\n",
    "programa o archivo por lotes ejecutable.\n",
    "\n",
    "C:\\Users\\emili\\Documents\\launch>cd env\n",
    "\n",
    "C:\\Users\\emili\\Documents\\launch\\env>cd Scripts\n",
    "\n",
    "C:\\Users\\emili\\Documents\\launch\\env\\Scripts>activate\n",
    "\n",
    "(env) C:\\Users\\emili\\Documents\\launch\\env\\Scripts>pip freeze\n",
    "python-dateutil==2.8.2\n",
    "six==1.16.0\n",
    "\n",
    "(env) C:\\Users\\emili\\Documents\\launch\\env\\Scripts>pip install python-deteutil\n",
    "ERROR: Could not find a version that satisfies the requirement python-deteutil (from versions: none)\n",
    "ERROR: No matching distribution found for python-deteutil\n",
    "\n",
    "(env) C:\\Users\\emili\\Documents\\launch\\env\\Scripts>pip install python-deteutil\n",
    "ERROR: Could not find a version that satisfies the requirement python-deteutil (from versions: none)\n",
    "ERROR: No matching distribution found for python-deteutil\n",
    "\n",
    "(env) C:\\Users\\emili\\Documents\\launch\\env\\Scripts>pip freeze\n",
    "python-dateutil==2.8.2\n",
    "six==1.16.0\n",
    "\n",
    "(env) C:\\Users\\emili\\Documents\\launch\\env\\Scripts>desactivate\n",
    "\"desactivate\" no se reconoce como un comando interno o externo,\n",
    "programa o archivo por lotes ejecutable.\n",
    "\n",
    "(env) C:\\Users\\emili\\Documents\\launch\\env\\Scripts>deactivate"
   ]
  }
 ],
 "metadata": {
  "interpreter": {
   "hash": "ff514226019538e00b06d60e0845596ea24ddcc85d9f4856e8453e7c48e8444b"
  },
  "kernelspec": {
   "display_name": "Python 3.9.10 64-bit (windows store)",
   "language": "python",
   "name": "python3"
  },
  "language_info": {
   "name": "python",
   "version": "3.9.10"
  },
  "orig_nbformat": 4
 },
 "nbformat": 4,
 "nbformat_minor": 2
}
