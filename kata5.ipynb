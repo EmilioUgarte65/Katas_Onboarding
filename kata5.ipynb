{
 "cells": [
  {
   "cell_type": "markdown",
   "metadata": {},
   "source": [
    "## Veremos la distancia entre 2 planetas"
   ]
  },
  {
   "cell_type": "code",
   "execution_count": null,
   "metadata": {},
   "outputs": [
    {
     "name": "stdout",
     "output_type": "stream",
     "text": [
      "628949330 km\n",
      " 390577533.93 mi\n"
     ]
    }
   ],
   "source": [
    "planet_0 = 149597870 \n",
    "planet_1 = 778547200 \n",
    "distance = planet_0-planet_1\n",
    "if distance <= 0:\n",
    "    distance*=-1\n",
    "print(distance,\"km\\n\",(distance*0.621),\"mi\")"
   ]
  },
  {
   "cell_type": "markdown",
   "metadata": {},
   "source": [
    "## Pasar de numeros negativos a numeros absolutos"
   ]
  },
  {
   "cell_type": "code",
   "execution_count": null,
   "metadata": {},
   "outputs": [
    {
     "name": "stdout",
     "output_type": "stream",
     "text": [
      "720700000 km\n",
      " 447554700.0 mi\n"
     ]
    }
   ],
   "source": [
    "planet_0 = int(input(\"Cero planet: \"))\n",
    "planet_1 = int(input(\"First planet: \"))\n",
    "distance = planet_0-planet_1\n",
    "if distance <= 0:\n",
    "    distance*=-1\n",
    "print(distance,\"km\\n\",(distance*0.621),\"mi\")"
   ]
  }
 ],
 "metadata": {
  "interpreter": {
   "hash": "ff514226019538e00b06d60e0845596ea24ddcc85d9f4856e8453e7c48e8444b"
  },
  "kernelspec": {
   "display_name": "Python 3.9.10 64-bit (windows store)",
   "language": "python",
   "name": "python3"
  },
  "language_info": {
   "name": "python",
   "version": "3.9.10"
  },
  "orig_nbformat": 4
 },
 "nbformat": 4,
 "nbformat_minor": 2
}
