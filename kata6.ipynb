{
 "cells": [
  {
   "cell_type": "markdown",
   "metadata": {},
   "source": [
    "## Listado de planetas que podemos visitar\n",
    "Se creara un array el cual nos ayudara a desplegar una lista de planetas los cuales podremos visitar.\n",
    "\n",
    "Despues de ello iniciaremos el viaje a dicho planeta."
   ]
  },
  {
   "cell_type": "code",
   "execution_count": null,
   "metadata": {},
   "outputs": [
    {
     "name": "stdout",
     "output_type": "stream",
     "text": [
      "Please, select a planet by number\n",
      "1 Venus\n",
      "2 Mercury\n",
      "3 Earth\n",
      "4 Mars\n",
      "5 Jupiter\n",
      "6 Saturn\n",
      "7 Neptune\n",
      "**************************************************\n",
      "1 Venus\n",
      "2 Mercury\n",
      "3 Earth\n",
      "4 Mars\n",
      "5 Jupiter\n",
      "6 Saturn\n",
      "7 Neptune\n",
      "8 Pluton\n",
      "The list has been update :)\n"
     ]
    }
   ],
   "source": [
    "#Se crea array de los planets\n",
    "planets =  [\"Mercury\",\"Venus\",\"Earth\",\"Mars\",\"Jupiter\", \"Saturn\",\"Neptune\"]\n",
    "i=0 #Se crea el iterador\n",
    "print(\"Please, select a planet by number\")\n",
    "for sentence in planets: #Se imprimen los elementos del Array\n",
    "    print((i+1),planets[i])\n",
    "    i+=1\n",
    "i=0    #se regresa el array a 0\n",
    "planets.append(\"Pluton\") #Pluton es agregado al array\n",
    "print(f'*'*50)\n",
    "for sentence in planets:#Se vuelve a imprimir el array\n",
    "    print((i+1),planets[i])\n",
    "    i+=1\n",
    "print(\"The list has been update :)\")"
   ]
  },
  {
   "cell_type": "markdown",
   "metadata": {},
   "source": [
    "### Seleccionar un planeta para viajar"
   ]
  },
  {
   "cell_type": "code",
   "execution_count": null,
   "metadata": {},
   "outputs": [
    {
     "name": "stdout",
     "output_type": "stream",
     "text": [
      "Plese, select a plant\n",
      "We're traveling to Venus\n"
     ]
    }
   ],
   "source": [
    "print(\"Plese, select a plant\")\n",
    "a = int(input()) #se pide el dato y se castea\n",
    "print(\"We're traveling to\", planets[(a-1)]) \n",
    "print(\"Here are the planet closer than\",planets[(a-1)],\"\\n\",planets[(a-2)])\n",
    "print(\"Here are thanets furter\")\n",
    "\n"
   ]
  }
 ],
 "metadata": {
  "interpreter": {
   "hash": "ff514226019538e00b06d60e0845596ea24ddcc85d9f4856e8453e7c48e8444b"
  },
  "kernelspec": {
   "display_name": "Python 3.9.10 64-bit (windows store)",
   "language": "python",
   "name": "python3"
  },
  "language_info": {
   "name": "python",
   "version": "3.9.10"
  },
  "orig_nbformat": 4
 },
 "nbformat": 4,
 "nbformat_minor": 2
}
