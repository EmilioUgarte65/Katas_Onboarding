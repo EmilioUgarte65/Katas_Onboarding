{
 "cells": [
  {
   "cell_type": "markdown",
   "metadata": {},
   "source": [
    "# Manual de la Nave"
   ]
  },
  {
   "cell_type": "code",
   "execution_count": 1,
   "metadata": {},
   "outputs": [
    {
     "data": {
      "application/vnd.jupyter.widget-view+json": {
       "model_id": "d4853a07c6fa4048928ba3eca4becedf",
       "version_major": 2,
       "version_minor": 0
      },
      "text/plain": [
       "ToggleButton(value=False, button_style='success', description='Iniciar Launch', icon='rocket', tooltip='Engage…"
      ]
     },
     "metadata": {},
     "output_type": "display_data"
    },
    {
     "data": {
      "application/vnd.jupyter.widget-view+json": {
       "model_id": "17a41203df394421932e6cc210044e01",
       "version_major": 2,
       "version_minor": 0
      },
      "text/plain": [
       "Output()"
      ]
     },
     "metadata": {},
     "output_type": "display_data"
    }
   ],
   "source": [
    "import ipywidgets as widgets\n",
    "ignition = widgets.ToggleButton(\n",
    "    value=False,\n",
    "    description='Iniciar Launch',\n",
    "    button_style='success',\n",
    "    tooltip='Engage your Launch',\n",
    "    icon='rocket'\n",
    ")\n",
    "\n",
    "output = widgets.Output()\n",
    "\n",
    "display(ignition,output)\n",
    "\n",
    "def on_value_change (change):\n",
    "    with output:\n",
    "        if change['new'] == True:\n",
    "            print(\"Nave Iniciada!\")\n",
    "        else:\n",
    "            print(\"Nave Detenida\")\n",
    "ignition.observe(on_value_change, names='value')     "
   ]
  },
  {
   "cell_type": "markdown",
   "metadata": {},
   "source": [
    "## Niveles de Oxigeno\n",
    "Muestra diez minutos de niveles de oxigeno en tu nave."
   ]
  },
  {
   "cell_type": "code",
   "execution_count": 2,
   "metadata": {},
   "outputs": [
    {
     "data": {
      "image/png": "[encoded data removed]",
      "text/plain": [
       "<Figure size 432x288 with 1 Axes>"
      ]
     },
     "metadata": {
      "needs_background": "light"
     },
     "output_type": "display_data"
    }
   ],
   "source": [
    "import numpy as np\n",
    "import matplotlib.pyplot as plt\n",
    "data = np.random.default_rng(12345)\n",
    "oxy_nums = data.integers(low=0, high=10, size=10)\n",
    "plt.bar(range(len(oxy_nums)), oxy_nums)\n",
    "plt.show()"
   ]
  },
  {
   "cell_type": "markdown",
   "metadata": {},
   "source": [
    "## Velocidad de la nave\n",
    "Muestra los segundos necesarios para pasar de 0 a 11200 metros por segundo, dada la aceleracion de la nave en metros por segundo."
   ]
  },
  {
   "cell_type": "code",
   "execution_count": 3,
   "metadata": {},
   "outputs": [
    {
     "name": "stdout",
     "output_type": "stream",
     "text": [
      "Tiempo para alcanzar la velocidad de la luz es =  83.27568277777777 horas\n"
     ]
    }
   ],
   "source": [
    "endVelocity = 299792458\n",
    "startVelocity = 0\n",
    "acceleration= 1000\n",
    "time = (endVelocity-startVelocity)/acceleration\n",
    "time = (time/60)/60\n",
    "print(\"Tiempo para alcanzar la velocidad de la luz es = \", time, \"horas\")"
   ]
  },
  {
   "cell_type": "markdown",
   "metadata": {},
   "source": [
    "## Fecha dentro de la nave\n",
    "Mostraremos a continuacion la fecha que tenemos dentro de nuestra nave.La cual estuvo cordinada con la de la tirra el dia que la nave salio."
   ]
  },
  {
   "cell_type": "code",
   "execution_count": 4,
   "metadata": {},
   "outputs": [
    {
     "name": "stdout",
     "output_type": "stream",
     "text": [
      "La fecha de hoy es:  2022-02-07\n"
     ]
    }
   ],
   "source": [
    "from datetime import date\n",
    "print(\"La fecha de hoy es: \", str(date.today()))"
   ]
  },
  {
   "cell_type": "markdown",
   "metadata": {},
   "source": [
    "## Programa que convierta parsec a años luz\n",
    "Tener un programa de este tipo podría ser realmente útil en el puente para trazar nuestro curso\"."
   ]
  },
  {
   "cell_type": "code",
   "execution_count": 4,
   "metadata": {},
   "outputs": [],
   "source": [
    "parsec = input (\"introduce parsec\")\n",
    "parsec = int(parsec)\n",
    "lightyears=3.26156*parsec \n",
    "\n",
    "print(str(parsec),\" parsec is \",str(lightyears),\" lightyears\")"
   ]
  },
  {
   "cell_type": "markdown",
   "metadata": {},
   "source": [
    "## Asteroides cercanos\n",
    "Se crea una aplicacion, la cual lanza un mensaje si un asteroide esta cerca."
   ]
  },
  {
   "cell_type": "code",
   "execution_count": 27,
   "metadata": {},
   "outputs": [
    {
     "name": "stdout",
     "output_type": "stream",
     "text": [
      "We'll be destroy!! D:\n",
      "Velocity:  28 km/s\n"
     ]
    }
   ],
   "source": [
    "import random\n",
    "Next_Asteroid= random.randint(3,60)\n",
    "if Next_Asteroid >=25:\n",
    "    print(\"We'll be destroy!! D:\")\n",
    "    print(\"Velocity: \", Next_Asteroid, \"km/s\")\n",
    "else:\n",
    "        print(\"We are safe :D\")\n",
    "        print(\"Velocity: \", Next_Asteroid, \"km/s\")\n",
    "    \n"
   ]
  },
  {
   "cell_type": "markdown",
   "metadata": {},
   "source": [
    "## Haremos el mismo radar comprobando los el tamaño del asteroide\n"
   ]
  },
  {
   "cell_type": "code",
   "execution_count": 31,
   "metadata": {},
   "outputs": [
    {
     "name": "stdout",
     "output_type": "stream",
     "text": [
      "We're already dead T_T\n",
      "Velocity:  25 km/s\n",
      "Size:  134 m\n",
      "Look up, could you see a ligth in the sky :D\n"
     ]
    }
   ],
   "source": [
    "import random\n",
    "Next_Asteroid= random.randint(3,60)\n",
    "size=random.randint(0,200)\n",
    "if Next_Asteroid >=25 and size>=25 and size<=100:\n",
    "    print(\"We'll be destroy!! D:\")\n",
    "    print(\"Velocity: \", Next_Asteroid, \"km/s\\nSize: \",size,\"m\")\n",
    "elif Next_Asteroid>=25 and size>=101:\n",
    "    print(\"We're already dead T_T\")\n",
    "    print(\"Velocity: \", Next_Asteroid, \"km/s\\nSize: \",size,\"m\")\n",
    "\n",
    "else:\n",
    "    print(\"We're safe :D\")\n",
    "    print(\"Velocity: \", Next_Asteroid, \"km/s\\nSize: \",size,\"m\")\n",
    "if Next_Asteroid >=20:\n",
    "    print(\"Look up, could you see a ligth in the sky :D\")\n",
    "    "
   ]
  },
  {
   "cell_type": "markdown",
   "metadata": {},
   "source": [
    "## Conversion de cadena"
   ]
  },
  {
   "cell_type": "code",
   "execution_count": 33,
   "metadata": {},
   "outputs": [
    {
     "name": "stdout",
     "output_type": "stream",
     "text": [
      "The Moon is Earth's only satellite\n",
      "There are several interesting facts about the Moon and how it affects life here on Earth.On average, the Moon moves 4cm away from the Earth every year\n",
      "This yearly drift is not significant enough to cause immediate effects on Earth\n",
      "The highest d\n",
      "Interesting facts about the Moon\n",
      "The Moon is Earth's only satellite\n",
      "There are several interesting facts about the Moon and how it affects life here on Earth.On average, the Moon moves 4cm away from the Earth every year\n",
      "This yearly drift is not significant enough to cause immediate effects on Earth\n",
      "The highest d\n"
     ]
    }
   ],
   "source": [
    "text=\"Interesting facts about the Moon. The Moon is Earth's only satellite. There are several interesting facts about the Moon and how it affects life here on Earth.\\\n",
    "On average, the Moon moves 4cm away from the Earth every year. This yearly drift is not significant enough to cause immediate effects on Earth. The highest d\"\n",
    "text_parts = text.split('. ')\n",
    "text_parts\n",
    "key_words =[\"average\", \"temperature\", \"distance\"]\n",
    "for sentence in text_parts:\n",
    "    for key_words in key_words:\n",
    "        if key_words in sentence:\n",
    "            print(sentence)\n",
    "            break\n",
    "for sentence in text_parts:\n",
    "    for key_words in key_words:\n",
    "        if key_words in sentence:\n",
    "            print(sentence.replace(\"C\",\"Celsius\"))        "
   ]
  },
  {
   "cell_type": "markdown",
   "metadata": {},
   "source": [
    "## Gravedad Tierra/Luna\n"
   ]
  },
  {
   "cell_type": "code",
   "execution_count": 60,
   "metadata": {},
   "outputs": [
    {
     "name": "stdout",
     "output_type": "stream",
     "text": [
      "\n",
      "Informaton about gravity on: Moon\n",
      "------------------------------------------------------------\n",
      "Name of the planet:Earth\n",
      "Gravity above Earth: 1.6199999999999999 m/s2\n",
      "\n"
     ]
    }
   ],
   "source": [
    "name = \"Moon\"\n",
    "gravity= 0.00162\n",
    "planet=\"Earth\"\n",
    "gravity *=1000\n",
    "title=f\"Informaton about gravity on: {name}\"\n",
    "inf= f\"\"\" \\n{'-'*65}\\n Name of the planet:  {planet} \\n Gravity above {name}: {gravity} m/s2\"\"\"\n",
    "complete_text= f\"\"\"{title.title()} {inf}\"\"\"\n",
    "\n",
    "forma_t=\"\"\"\n",
    "Informaton about gravity on: {name}\n",
    "------------------------------------------------------------\n",
    "Name of the planet:{planet}\n",
    "Gravity above {planet}: {gravity} m/s2\n",
    "\"\"\"\n",
    "print(forma_t.format(name=name,planet=planet, gravity=gravity))\n"
   ]
  },
  {
   "cell_type": "markdown",
   "metadata": {},
   "source": [
    "## Veremos la distancia entre 2 planetas"
   ]
  },
  {
   "cell_type": "code",
   "execution_count": 8,
   "metadata": {},
   "outputs": [
    {
     "name": "stdout",
     "output_type": "stream",
     "text": [
      "628949330 km\n",
      " 390577533.93 mi\n"
     ]
    }
   ],
   "source": [
    "planet_0 = 149597870 \n",
    "planet_1 = 778547200 \n",
    "distance = planet_0-planet_1\n",
    "if distance <= 0:\n",
    "    distance*=-1\n",
    "print(distance,\"km\\n\",(distance*0.621),\"mi\")"
   ]
  },
  {
   "cell_type": "markdown",
   "metadata": {},
   "source": [
    "## Pasar de numeros negativos a numeros absolutos"
   ]
  },
  {
   "cell_type": "code",
   "execution_count": 4,
   "metadata": {},
   "outputs": [
    {
     "name": "stdout",
     "output_type": "stream",
     "text": [
      "720700000 km\n",
      " 447554700.0 mi\n"
     ]
    }
   ],
   "source": [
    "planet_0 = int(input(\"Cero planet: \"))\n",
    "planet_1 = int(input(\"First planet: \"))\n",
    "distance = planet_0-planet_1\n",
    "if distance <= 0:\n",
    "    distance*=-1\n",
    "print(distance,\"km\\n\",(distance*0.621),\"mi\")"
   ]
  },
  {
   "cell_type": "markdown",
   "metadata": {},
   "source": [
    "## Listado de planetas que podemos visitar\n",
    "Se creara un array el cual nos ayudara a desplegar una lista de planetas los cuales podremos visitar.\n",
    "\n",
    "Despues de ello iniciaremos el viaje a dicho planeta."
   ]
  },
  {
   "cell_type": "code",
   "execution_count": 16,
   "metadata": {},
   "outputs": [
    {
     "name": "stdout",
     "output_type": "stream",
     "text": [
      "Please, select a planet by number\n",
      "1 Venus\n",
      "2 Mercury\n",
      "3 Earth\n",
      "4 Mars\n",
      "5 Jupiter\n",
      "6 Saturn\n",
      "7 Neptune\n",
      "**************************************************\n",
      "1 Venus\n",
      "2 Mercury\n",
      "3 Earth\n",
      "4 Mars\n",
      "5 Jupiter\n",
      "6 Saturn\n",
      "7 Neptune\n",
      "8 Pluton\n",
      "The list has been update :)\n"
     ]
    }
   ],
   "source": [
    "#Se crea array de los planets\n",
    "planets =  [\"Mercury\",\"Venus\",\"Earth\",\"Mars\",\"Jupiter\", \"Saturn\",\"Neptune\"]\n",
    "i=0 #Se crea el iterador\n",
    "print(\"Please, select a planet by number\")\n",
    "for sentence in planets: #Se imprimen los elementos del Array\n",
    "    print((i+1),planets[i])\n",
    "    i+=1\n",
    "i=0    #se regresa el array a 0\n",
    "planets.append(\"Pluton\") #Pluton es agregado al array\n",
    "print(f'*'*50)\n",
    "for sentence in planets:#Se vuelve a imprimir el array\n",
    "    print((i+1),planets[i])\n",
    "    i+=1\n",
    "print(\"The list has been update :)\")"
   ]
  },
  {
   "cell_type": "markdown",
   "metadata": {},
   "source": [
    "### Seleccionar un planeta para viajar"
   ]
  },
  {
   "cell_type": "code",
   "execution_count": 17,
   "metadata": {},
   "outputs": [
    {
     "name": "stdout",
     "output_type": "stream",
     "text": [
      "Plese, select a plant\n",
      "We're traveling to Venus\n"
     ]
    }
   ],
   "source": [
    "print(\"Plese, select a plant\")\n",
    "a = int(input()) #se pide el dato y se castea\n",
    "print(\"We're traveling to\", planets[(a-1)]) \n",
    "print(\"Here are the planet closer than\",planets[(a-1)],\"\\n\",planets[(a-2)])\n",
    "print(\"Here are thanets furter\")\n",
    "\n"
   ]
  },
  {
   "cell_type": "markdown",
   "metadata": {},
   "source": [
    "##  Insertar nuevos planetas.\n",
    "Se agregaran planetas por medio de un ciclo while"
   ]
  },
  {
   "cell_type": "code",
   "execution_count": 41,
   "metadata": {},
   "outputs": [
    {
     "name": "stdout",
     "output_type": "stream",
     "text": [
      "['Venus', 'Pluton']\n"
     ]
    }
   ],
   "source": [
    "new_planet=\"\"\n",
    "list_planets=[]\n",
    "print('to exit just tap intro :D')\n",
    "while new_planet!=\"done\":\n",
    "    new_planet=input('Introduce a new planet :D')\n",
    "    if new_planet!=\"done\" and new_planet!=\"\":\n",
    "        list_planets.append(new_planet)\n",
    "    elif new_planet==\"\" or new_planet==\" \":\n",
    "        new_planet=\"done\"    \n",
    "\n",
    "print(list_planets)\n"
   ]
  },
  {
   "cell_type": "markdown",
   "metadata": {},
   "source": [
    "## Imprimir mi lista de planetas\n"
   ]
  },
  {
   "cell_type": "code",
   "execution_count": 49,
   "metadata": {},
   "outputs": [
    {
     "name": "stdout",
     "output_type": "stream",
     "text": [
      "Venus\n",
      "Pluton\n"
     ]
    }
   ],
   "source": [
    "i=0\n",
    "for p in list_planets:\n",
    "    print(list_planets[i])\n",
    "    i+=1"
   ]
  },
  {
   "cell_type": "markdown",
   "metadata": {},
   "source": [
    "## Diccionarios"
   ]
  },
  {
   "cell_type": "code",
   "execution_count": 57,
   "metadata": {},
   "outputs": [
    {
     "name": "stdout",
     "output_type": "stream",
     "text": [
      "Planet: Mars \n",
      "Moons: 42\n",
      "{'polar': 6752, 'equatorial': 6792}\n"
     ]
    }
   ],
   "source": [
    "dic_planet = {\n",
    "    \"Name\" : \"Mars\",\n",
    "    \"Moons\": 42\n",
    " }\n",
    "print(\"Planet:\", dic_planet[\"Name\"],\n",
    "\"\\nMoons:\",dic_planet[\"Moons\"])\n",
    "dic_planet[\"circunference\"]={'polar':6752,'equatorial':6792}\n",
    "print(dic_planet[\"circunference\"])\n"
   ]
  },
  {
   "cell_type": "markdown",
   "metadata": {},
   "source": [
    "## Numero de Lunas\n"
   ]
  },
  {
   "cell_type": "code",
   "execution_count": 82,
   "metadata": {},
   "outputs": [
    {
     "name": "stdout",
     "output_type": "stream",
     "text": [
      "17.833333333333332\n"
     ]
    }
   ],
   "source": [
    "planet_moons = {   \n",
    "    'mercury': 0,\n",
    "    'venus': 0,\n",
    "    'earth': 1,\n",
    "    'mars': 2,\n",
    "    'jupiter': 79,\n",
    "    'saturn': 82,\n",
    "    'uranus': 27,\n",
    "    'neptune': 14,\n",
    "    'pluto': 5,\n",
    "    'haumea': 2,\n",
    "    'makemake': 1,\n",
    "    'eris': 1}\n",
    "moons = sum(planet_moons.values())\n",
    "i=planet_moons.__len__()\n",
    "avarage=moons/i  \n",
    "print(avarage)"
   ]
  },
  {
   "cell_type": "markdown",
   "metadata": {},
   "source": [
    "## Manejo de funciones"
   ]
  },
  {
   "cell_type": "code",
   "execution_count": 139,
   "metadata": {},
   "outputs": [
    {
     "name": "stdout",
     "output_type": "stream",
     "text": [
      "Report:\n",
      "\n",
      "    tanks: (80, 90, 50)\n",
      "\n",
      "    avarage: 73.33333333333333\n",
      "    \n"
     ]
    }
   ],
   "source": [
    "def avarage (val):\n",
    "    av=(sum(val)/len(val))    \n",
    "    return av\n",
    "def tanks(t1,t2,t3):\n",
    "    return f\"\"\"Report:\\n\n",
    "    tanks: {t1, t2, t3}\\n\n",
    "    avarage: {avarage([t1, t2, t3])}\n",
    "    \"\"\"    \n",
    "\n",
    "print(tanks(80,90,50))"
   ]
  },
  {
   "cell_type": "markdown",
   "metadata": {},
   "source": [
    "## Informe de mision\n"
   ]
  },
  {
   "cell_type": "code",
   "execution_count": 143,
   "metadata": {},
   "outputs": [
    {
     "name": "stdout",
     "output_type": "stream",
     "text": [
      "Traveling to: Jupiter\n",
      "    total fuel: 115 gallons\n",
      "    travel time: 45000 minutesinternal tank --> 30000 gallons left\n",
      "\n"
     ]
    }
   ],
   "source": [
    "def travel_report (preLanunch, travel_time, destination,internal_tank, external_tank):\n",
    "    return f\"\"\"Traveling to: {destination}\n",
    "    internal tank: {internal_tank} \n",
    "    external tank: {external_tank} \n",
    "    total fuel: {external_tank+internal_tank} gallons\n",
    "    travel time: {preLanunch+travel_time} minutes\n",
    "    \"\"\"\n",
    "    \n",
    "def travel_report_V1 (destination,*minutes,**fuel):\n",
    "    return f\"\"\"Traveling to: {destination}\n",
    "    total fuel: {sum(minutes)} gallons\n",
    "    travel time: {sum(fuel.values())} minutes\n",
    "    \"\"\"    \n",
    "\n",
    "def travel_report_V2 (destination,*minutes,**fuel):\n",
    "    report = f\"\"\"Traveling to: {destination}\n",
    "    total fuel: {sum(minutes)} gallons\n",
    "    travel time: {sum(fuel.values())} minutes\"\"\"\n",
    "    for tank_name, gallons in fuel.items():\n",
    "     report += f\"{tank_name} tank --> {gallons} gallons left\\n\"\n",
    "     return report\n",
    "\n",
    "    \n",
    "print(travel_report_V2(\"Jupiter\",15,20,30,50, internal=30000, external=15000))"
   ]
  },
  {
   "cell_type": "markdown",
   "metadata": {},
   "source": [
    "## Errores"
   ]
  },
  {
   "cell_type": "code",
   "execution_count": 147,
   "metadata": {},
   "outputs": [
    {
     "ename": "SyntaxError",
     "evalue": "invalid syntax (2495603016.py, line 2)",
     "output_type": "error",
     "traceback": [
      "\u001b[1;36m  Input \u001b[1;32mIn [147]\u001b[1;36m\u001b[0m\n\u001b[1;33m    Traceback (most recent call last):\u001b[0m\n\u001b[1;37m                    ^\u001b[0m\n\u001b[1;31mSyntaxError\u001b[0m\u001b[1;31m:\u001b[0m invalid syntax\n"
     ]
    }
   ],
   "source": [
    ">>> open(\"/path/to/mars.jpg\")\n",
    "Traceback (most recent call last):\n",
    "File \"<stdin>\", line 1, in <module>\n",
    "FileNotFoundError:[Errno 2] No such file or directory:'path/to/mars.jpg'\n"
   ]
  }
 ],
 "metadata": {
  "interpreter": {
   "hash": "b875ea567c1e94403b72926e4558f5ce9847ca58931ecf834eab125f4febe2b7"
  },
  "kernelspec": {
   "display_name": "Python 3.9.7 64-bit",
   "language": "python",
   "name": "python3"
  },
  "language_info": {
   "codemirror_mode": {
    "name": "ipython",
    "version": 3
   },
   "file_extension": ".py",
   "mimetype": "text/x-python",
   "name": "python",
   "nbconvert_exporter": "python",
   "pygments_lexer": "ipython3",
   "version": "3.9.7"
  },
  "orig_nbformat": 4
 },
 "nbformat": 4,
 "nbformat_minor": 2
}
