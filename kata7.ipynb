{
 "cells": [
  {
   "cell_type": "markdown",
   "metadata": {},
   "source": [
    "##  Insertar nuevos planetas.\n",
    "Se agregaran planetas por medio de un ciclo while"
   ]
  },
  {
   "cell_type": "code",
   "execution_count": null,
   "metadata": {},
   "outputs": [
    {
     "name": "stdout",
     "output_type": "stream",
     "text": [
      "['Venus', 'Pluton']\n"
     ]
    }
   ],
   "source": [
    "new_planet=\"\"\n",
    "list_planets=[]\n",
    "print('to exit just tap intro :D')\n",
    "while new_planet!=\"done\":\n",
    "    new_planet=input('Introduce a new planet :D')\n",
    "    if new_planet!=\"done\" and new_planet!=\"\":\n",
    "        list_planets.append(new_planet)\n",
    "    elif new_planet==\"\" or new_planet==\" \":\n",
    "        new_planet=\"done\"    \n",
    "\n",
    "print(list_planets)\n"
   ]
  },
  {
   "cell_type": "markdown",
   "metadata": {},
   "source": [
    "## Imprimir mi lista de planetas\n"
   ]
  },
  {
   "cell_type": "code",
   "execution_count": null,
   "metadata": {},
   "outputs": [
    {
     "name": "stdout",
     "output_type": "stream",
     "text": [
      "Venus\n",
      "Pluton\n"
     ]
    }
   ],
   "source": [
    "i=0\n",
    "for p in list_planets:\n",
    "    print(list_planets[i])\n",
    "    i+=1"
   ]
  }
 ],
 "metadata": {
  "interpreter": {
   "hash": "ff514226019538e00b06d60e0845596ea24ddcc85d9f4856e8453e7c48e8444b"
  },
  "kernelspec": {
   "display_name": "Python 3.9.10 64-bit (windows store)",
   "language": "python",
   "name": "python3"
  },
  "language_info": {
   "name": "python",
   "version": "3.9.10"
  },
  "orig_nbformat": 4
 },
 "nbformat": 4,
 "nbformat_minor": 2
}
